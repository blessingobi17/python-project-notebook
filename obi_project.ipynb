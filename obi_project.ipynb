{
 "cells": [
  {
   "cell_type": "code",
   "execution_count": 1,
   "id": "72a92721-8131-45f2-94d4-49d76b58e259",
   "metadata": {},
   "outputs": [
    {
     "name": "stdout",
     "output_type": "stream",
     "text": [
      "ready...\n"
     ]
    }
   ],
   "source": [
    "# set up environment \n",
    "import numpy as np\n",
    "import pandas as pd\n",
    "import matplotlib.pyplot as plt\n",
    "%matplotlib inline\n",
    "import seaborn as sns\n",
    "print(\"ready...\")"
   ]
  },
  {
   "cell_type": "code",
   "execution_count": 2,
   "id": "60e242e2-df0b-4135-a7c3-35aeca50cdfb",
   "metadata": {},
   "outputs": [
    {
     "name": "stderr",
     "output_type": "stream",
     "text": [
      "C:\\Users\\USER\\AppData\\Local\\Temp\\ipykernel_12260\\78474318.py:1: DtypeWarning: Columns (3) have mixed types. Specify dtype option on import or set low_memory=False.\n",
      "  df=pd.read_csv(\"datasets/global_food_prices.csv\")\n"
     ]
    }
   ],
   "source": [
    "df=pd.read_csv(\"datasets/global_food_prices.csv\")"
   ]
  },
  {
   "cell_type": "code",
   "execution_count": 3,
   "id": "42e17980-2d8a-4343-881a-55dcb78710d8",
   "metadata": {},
   "outputs": [
    {
     "data": {
      "text/html": [
       "<div>\n",
       "<style scoped>\n",
       "    .dataframe tbody tr th:only-of-type {\n",
       "        vertical-align: middle;\n",
       "    }\n",
       "\n",
       "    .dataframe tbody tr th {\n",
       "        vertical-align: top;\n",
       "    }\n",
       "\n",
       "    .dataframe thead th {\n",
       "        text-align: right;\n",
       "    }\n",
       "</style>\n",
       "<table border=\"1\" class=\"dataframe\">\n",
       "  <thead>\n",
       "    <tr style=\"text-align: right;\">\n",
       "      <th></th>\n",
       "      <th>adm0_id</th>\n",
       "      <th>adm0_name</th>\n",
       "      <th>adm1_id</th>\n",
       "      <th>adm1_name</th>\n",
       "      <th>mkt_id</th>\n",
       "      <th>mkt_name</th>\n",
       "      <th>cm_id</th>\n",
       "      <th>cm_name</th>\n",
       "      <th>cur_id</th>\n",
       "      <th>cur_name</th>\n",
       "      <th>pt_id</th>\n",
       "      <th>pt_name</th>\n",
       "      <th>um_id</th>\n",
       "      <th>um_name</th>\n",
       "      <th>mp_month</th>\n",
       "      <th>mp_year</th>\n",
       "      <th>mp_price</th>\n",
       "      <th>mp_commoditysource</th>\n",
       "    </tr>\n",
       "  </thead>\n",
       "  <tbody>\n",
       "    <tr>\n",
       "      <th>0</th>\n",
       "      <td>1.0</td>\n",
       "      <td>Afghanistan</td>\n",
       "      <td>272</td>\n",
       "      <td>Badakhshan</td>\n",
       "      <td>266</td>\n",
       "      <td>Fayzabad</td>\n",
       "      <td>55</td>\n",
       "      <td>Bread - Retail</td>\n",
       "      <td>0.0</td>\n",
       "      <td>AFN</td>\n",
       "      <td>15</td>\n",
       "      <td>Retail</td>\n",
       "      <td>5</td>\n",
       "      <td>KG</td>\n",
       "      <td>1</td>\n",
       "      <td>2014</td>\n",
       "      <td>50.0</td>\n",
       "      <td>NaN</td>\n",
       "    </tr>\n",
       "    <tr>\n",
       "      <th>1</th>\n",
       "      <td>1.0</td>\n",
       "      <td>Afghanistan</td>\n",
       "      <td>272</td>\n",
       "      <td>Badakhshan</td>\n",
       "      <td>266</td>\n",
       "      <td>Fayzabad</td>\n",
       "      <td>55</td>\n",
       "      <td>Bread - Retail</td>\n",
       "      <td>0.0</td>\n",
       "      <td>AFN</td>\n",
       "      <td>15</td>\n",
       "      <td>Retail</td>\n",
       "      <td>5</td>\n",
       "      <td>KG</td>\n",
       "      <td>2</td>\n",
       "      <td>2014</td>\n",
       "      <td>50.0</td>\n",
       "      <td>NaN</td>\n",
       "    </tr>\n",
       "    <tr>\n",
       "      <th>2</th>\n",
       "      <td>1.0</td>\n",
       "      <td>Afghanistan</td>\n",
       "      <td>272</td>\n",
       "      <td>Badakhshan</td>\n",
       "      <td>266</td>\n",
       "      <td>Fayzabad</td>\n",
       "      <td>55</td>\n",
       "      <td>Bread - Retail</td>\n",
       "      <td>0.0</td>\n",
       "      <td>AFN</td>\n",
       "      <td>15</td>\n",
       "      <td>Retail</td>\n",
       "      <td>5</td>\n",
       "      <td>KG</td>\n",
       "      <td>3</td>\n",
       "      <td>2014</td>\n",
       "      <td>50.0</td>\n",
       "      <td>NaN</td>\n",
       "    </tr>\n",
       "    <tr>\n",
       "      <th>3</th>\n",
       "      <td>1.0</td>\n",
       "      <td>Afghanistan</td>\n",
       "      <td>272</td>\n",
       "      <td>Badakhshan</td>\n",
       "      <td>266</td>\n",
       "      <td>Fayzabad</td>\n",
       "      <td>55</td>\n",
       "      <td>Bread - Retail</td>\n",
       "      <td>0.0</td>\n",
       "      <td>AFN</td>\n",
       "      <td>15</td>\n",
       "      <td>Retail</td>\n",
       "      <td>5</td>\n",
       "      <td>KG</td>\n",
       "      <td>4</td>\n",
       "      <td>2014</td>\n",
       "      <td>50.0</td>\n",
       "      <td>NaN</td>\n",
       "    </tr>\n",
       "    <tr>\n",
       "      <th>4</th>\n",
       "      <td>1.0</td>\n",
       "      <td>Afghanistan</td>\n",
       "      <td>272</td>\n",
       "      <td>Badakhshan</td>\n",
       "      <td>266</td>\n",
       "      <td>Fayzabad</td>\n",
       "      <td>55</td>\n",
       "      <td>Bread - Retail</td>\n",
       "      <td>0.0</td>\n",
       "      <td>AFN</td>\n",
       "      <td>15</td>\n",
       "      <td>Retail</td>\n",
       "      <td>5</td>\n",
       "      <td>KG</td>\n",
       "      <td>5</td>\n",
       "      <td>2014</td>\n",
       "      <td>50.0</td>\n",
       "      <td>NaN</td>\n",
       "    </tr>\n",
       "  </tbody>\n",
       "</table>\n",
       "</div>"
      ],
      "text/plain": [
       "   adm0_id    adm0_name  adm1_id   adm1_name  mkt_id  mkt_name  cm_id  \\\n",
       "0      1.0  Afghanistan      272  Badakhshan     266  Fayzabad     55   \n",
       "1      1.0  Afghanistan      272  Badakhshan     266  Fayzabad     55   \n",
       "2      1.0  Afghanistan      272  Badakhshan     266  Fayzabad     55   \n",
       "3      1.0  Afghanistan      272  Badakhshan     266  Fayzabad     55   \n",
       "4      1.0  Afghanistan      272  Badakhshan     266  Fayzabad     55   \n",
       "\n",
       "          cm_name  cur_id cur_name  pt_id pt_name  um_id um_name  mp_month  \\\n",
       "0  Bread - Retail     0.0      AFN     15  Retail      5      KG         1   \n",
       "1  Bread - Retail     0.0      AFN     15  Retail      5      KG         2   \n",
       "2  Bread - Retail     0.0      AFN     15  Retail      5      KG         3   \n",
       "3  Bread - Retail     0.0      AFN     15  Retail      5      KG         4   \n",
       "4  Bread - Retail     0.0      AFN     15  Retail      5      KG         5   \n",
       "\n",
       "   mp_year  mp_price  mp_commoditysource  \n",
       "0     2014      50.0                 NaN  \n",
       "1     2014      50.0                 NaN  \n",
       "2     2014      50.0                 NaN  \n",
       "3     2014      50.0                 NaN  \n",
       "4     2014      50.0                 NaN  "
      ]
     },
     "execution_count": 3,
     "metadata": {},
     "output_type": "execute_result"
    }
   ],
   "source": [
    "df.head()"
   ]
  },
  {
   "cell_type": "code",
   "execution_count": 4,
   "id": "7b5e13ac-7db4-41ef-86ad-26cde96ff2ea",
   "metadata": {},
   "outputs": [],
   "source": [
    "data=df.copy()"
   ]
  },
  {
   "cell_type": "code",
   "execution_count": 5,
   "id": "9b6dbc43-1d93-4f23-b6b7-8f8be1761b70",
   "metadata": {},
   "outputs": [
    {
     "data": {
      "text/plain": [
       "(2050638, 18)"
      ]
     },
     "execution_count": 5,
     "metadata": {},
     "output_type": "execute_result"
    }
   ],
   "source": [
    "# number of rows and columns we have in the table\n",
    "\n",
    "data.shape"
   ]
  },
  {
   "cell_type": "code",
   "execution_count": 6,
   "id": "856c6232-574d-4ce1-8877-4f9a803cc332",
   "metadata": {},
   "outputs": [
    {
     "name": "stdout",
     "output_type": "stream",
     "text": [
      "<class 'pandas.core.frame.DataFrame'>\n",
      "RangeIndex: 2050638 entries, 0 to 2050637\n",
      "Data columns (total 18 columns):\n",
      " #   Column              Dtype  \n",
      "---  ------              -----  \n",
      " 0   adm0_id             float64\n",
      " 1   adm0_name           object \n",
      " 2   adm1_id             int64  \n",
      " 3   adm1_name           object \n",
      " 4   mkt_id              int64  \n",
      " 5   mkt_name            object \n",
      " 6   cm_id               int64  \n",
      " 7   cm_name             object \n",
      " 8   cur_id              float64\n",
      " 9   cur_name            object \n",
      " 10  pt_id               int64  \n",
      " 11  pt_name             object \n",
      " 12  um_id               int64  \n",
      " 13  um_name             object \n",
      " 14  mp_month            int64  \n",
      " 15  mp_year             int64  \n",
      " 16  mp_price            float64\n",
      " 17  mp_commoditysource  float64\n",
      "dtypes: float64(4), int64(7), object(7)\n",
      "memory usage: 281.6+ MB\n"
     ]
    }
   ],
   "source": [
    "# columns distribution\n",
    "\n",
    "data.info()"
   ]
  },
  {
   "cell_type": "code",
   "execution_count": 7,
   "id": "d2296d63-6f7b-4819-aaf8-969a7410b0cc",
   "metadata": {},
   "outputs": [
    {
     "data": {
      "text/html": [
       "<div>\n",
       "<style scoped>\n",
       "    .dataframe tbody tr th:only-of-type {\n",
       "        vertical-align: middle;\n",
       "    }\n",
       "\n",
       "    .dataframe tbody tr th {\n",
       "        vertical-align: top;\n",
       "    }\n",
       "\n",
       "    .dataframe thead th {\n",
       "        text-align: right;\n",
       "    }\n",
       "</style>\n",
       "<table border=\"1\" class=\"dataframe\">\n",
       "  <thead>\n",
       "    <tr style=\"text-align: right;\">\n",
       "      <th></th>\n",
       "      <th>adm0_id</th>\n",
       "      <th>adm1_id</th>\n",
       "      <th>mkt_id</th>\n",
       "      <th>cm_id</th>\n",
       "      <th>cur_id</th>\n",
       "      <th>pt_id</th>\n",
       "      <th>um_id</th>\n",
       "      <th>mp_month</th>\n",
       "      <th>mp_year</th>\n",
       "      <th>mp_price</th>\n",
       "      <th>mp_commoditysource</th>\n",
       "    </tr>\n",
       "  </thead>\n",
       "  <tbody>\n",
       "    <tr>\n",
       "      <th>count</th>\n",
       "      <td>2.050638e+06</td>\n",
       "      <td>2.050638e+06</td>\n",
       "      <td>2.050638e+06</td>\n",
       "      <td>2.050638e+06</td>\n",
       "      <td>2050638.0</td>\n",
       "      <td>2.050638e+06</td>\n",
       "      <td>2.050638e+06</td>\n",
       "      <td>2.050638e+06</td>\n",
       "      <td>2.050638e+06</td>\n",
       "      <td>2.050638e+06</td>\n",
       "      <td>0.0</td>\n",
       "    </tr>\n",
       "    <tr>\n",
       "      <th>mean</th>\n",
       "      <td>1.004064e+03</td>\n",
       "      <td>2.631071e+04</td>\n",
       "      <td>1.591207e+03</td>\n",
       "      <td>2.201166e+02</td>\n",
       "      <td>0.0</td>\n",
       "      <td>1.491768e+01</td>\n",
       "      <td>1.486924e+01</td>\n",
       "      <td>6.363021e+00</td>\n",
       "      <td>2.016131e+03</td>\n",
       "      <td>6.413984e+03</td>\n",
       "      <td>NaN</td>\n",
       "    </tr>\n",
       "    <tr>\n",
       "      <th>std</th>\n",
       "      <td>7.163519e+03</td>\n",
       "      <td>1.159529e+05</td>\n",
       "      <td>1.181314e+03</td>\n",
       "      <td>1.938963e+02</td>\n",
       "      <td>0.0</td>\n",
       "      <td>2.831222e-01</td>\n",
       "      <td>2.598690e+01</td>\n",
       "      <td>3.403189e+00</td>\n",
       "      <td>4.458825e+00</td>\n",
       "      <td>1.069772e+05</td>\n",
       "      <td>NaN</td>\n",
       "    </tr>\n",
       "    <tr>\n",
       "      <th>min</th>\n",
       "      <td>1.000000e+00</td>\n",
       "      <td>0.000000e+00</td>\n",
       "      <td>8.000000e+01</td>\n",
       "      <td>5.000000e+01</td>\n",
       "      <td>0.0</td>\n",
       "      <td>1.400000e+01</td>\n",
       "      <td>5.000000e+00</td>\n",
       "      <td>1.000000e+00</td>\n",
       "      <td>1.990000e+03</td>\n",
       "      <td>0.000000e+00</td>\n",
       "      <td>NaN</td>\n",
       "    </tr>\n",
       "    <tr>\n",
       "      <th>25%</th>\n",
       "      <td>1.050000e+02</td>\n",
       "      <td>1.510000e+03</td>\n",
       "      <td>6.440000e+02</td>\n",
       "      <td>7.300000e+01</td>\n",
       "      <td>0.0</td>\n",
       "      <td>1.500000e+01</td>\n",
       "      <td>5.000000e+00</td>\n",
       "      <td>3.000000e+00</td>\n",
       "      <td>2.014000e+03</td>\n",
       "      <td>4.500000e+01</td>\n",
       "      <td>NaN</td>\n",
       "    </tr>\n",
       "    <tr>\n",
       "      <th>50%</th>\n",
       "      <td>1.500000e+02</td>\n",
       "      <td>2.156000e+03</td>\n",
       "      <td>1.441000e+03</td>\n",
       "      <td>1.410000e+02</td>\n",
       "      <td>0.0</td>\n",
       "      <td>1.500000e+01</td>\n",
       "      <td>5.000000e+00</td>\n",
       "      <td>6.000000e+00</td>\n",
       "      <td>2.017000e+03</td>\n",
       "      <td>2.465558e+02</td>\n",
       "      <td>NaN</td>\n",
       "    </tr>\n",
       "    <tr>\n",
       "      <th>75%</th>\n",
       "      <td>2.050000e+02</td>\n",
       "      <td>3.433000e+03</td>\n",
       "      <td>2.331000e+03</td>\n",
       "      <td>3.030000e+02</td>\n",
       "      <td>0.0</td>\n",
       "      <td>1.500000e+01</td>\n",
       "      <td>9.000000e+00</td>\n",
       "      <td>9.000000e+00</td>\n",
       "      <td>2.020000e+03</td>\n",
       "      <td>1.200000e+03</td>\n",
       "      <td>NaN</td>\n",
       "    </tr>\n",
       "    <tr>\n",
       "      <th>max</th>\n",
       "      <td>7.000100e+04</td>\n",
       "      <td>9.000220e+05</td>\n",
       "      <td>6.083000e+03</td>\n",
       "      <td>8.930000e+02</td>\n",
       "      <td>0.0</td>\n",
       "      <td>1.800000e+01</td>\n",
       "      <td>1.750000e+02</td>\n",
       "      <td>1.200000e+01</td>\n",
       "      <td>2.021000e+03</td>\n",
       "      <td>2.177778e+07</td>\n",
       "      <td>NaN</td>\n",
       "    </tr>\n",
       "  </tbody>\n",
       "</table>\n",
       "</div>"
      ],
      "text/plain": [
       "            adm0_id       adm1_id        mkt_id         cm_id     cur_id  \\\n",
       "count  2.050638e+06  2.050638e+06  2.050638e+06  2.050638e+06  2050638.0   \n",
       "mean   1.004064e+03  2.631071e+04  1.591207e+03  2.201166e+02        0.0   \n",
       "std    7.163519e+03  1.159529e+05  1.181314e+03  1.938963e+02        0.0   \n",
       "min    1.000000e+00  0.000000e+00  8.000000e+01  5.000000e+01        0.0   \n",
       "25%    1.050000e+02  1.510000e+03  6.440000e+02  7.300000e+01        0.0   \n",
       "50%    1.500000e+02  2.156000e+03  1.441000e+03  1.410000e+02        0.0   \n",
       "75%    2.050000e+02  3.433000e+03  2.331000e+03  3.030000e+02        0.0   \n",
       "max    7.000100e+04  9.000220e+05  6.083000e+03  8.930000e+02        0.0   \n",
       "\n",
       "              pt_id         um_id      mp_month       mp_year      mp_price  \\\n",
       "count  2.050638e+06  2.050638e+06  2.050638e+06  2.050638e+06  2.050638e+06   \n",
       "mean   1.491768e+01  1.486924e+01  6.363021e+00  2.016131e+03  6.413984e+03   \n",
       "std    2.831222e-01  2.598690e+01  3.403189e+00  4.458825e+00  1.069772e+05   \n",
       "min    1.400000e+01  5.000000e+00  1.000000e+00  1.990000e+03  0.000000e+00   \n",
       "25%    1.500000e+01  5.000000e+00  3.000000e+00  2.014000e+03  4.500000e+01   \n",
       "50%    1.500000e+01  5.000000e+00  6.000000e+00  2.017000e+03  2.465558e+02   \n",
       "75%    1.500000e+01  9.000000e+00  9.000000e+00  2.020000e+03  1.200000e+03   \n",
       "max    1.800000e+01  1.750000e+02  1.200000e+01  2.021000e+03  2.177778e+07   \n",
       "\n",
       "       mp_commoditysource  \n",
       "count                 0.0  \n",
       "mean                  NaN  \n",
       "std                   NaN  \n",
       "min                   NaN  \n",
       "25%                   NaN  \n",
       "50%                   NaN  \n",
       "75%                   NaN  \n",
       "max                   NaN  "
      ]
     },
     "execution_count": 7,
     "metadata": {},
     "output_type": "execute_result"
    }
   ],
   "source": [
    "# statistics for numeric columns\n",
    "\n",
    "data.describe()"
   ]
  },
  {
   "cell_type": "code",
   "execution_count": 8,
   "id": "3ab1ac82-8e5f-4f65-ad0a-65c7410dfc92",
   "metadata": {},
   "outputs": [
    {
     "data": {
      "text/plain": [
       "adm0_id                     0\n",
       "adm0_name                   0\n",
       "adm1_id                     0\n",
       "adm1_name              611016\n",
       "mkt_id                      0\n",
       "mkt_name                    0\n",
       "cm_id                       0\n",
       "cm_name                     0\n",
       "cur_id                      0\n",
       "cur_name                    0\n",
       "pt_id                       0\n",
       "pt_name                     0\n",
       "um_id                       0\n",
       "um_name                     0\n",
       "mp_month                    0\n",
       "mp_year                     0\n",
       "mp_price                    0\n",
       "mp_commoditysource    2050638\n",
       "dtype: int64"
      ]
     },
     "execution_count": 8,
     "metadata": {},
     "output_type": "execute_result"
    }
   ],
   "source": [
    "# checking for NA values\n",
    "data.isna().sum()"
   ]
  },
  {
   "cell_type": "code",
   "execution_count": 9,
   "id": "1d28ef4a-6fcd-48f4-ba45-01063403480a",
   "metadata": {},
   "outputs": [
    {
     "data": {
      "text/plain": [
       "adm0_id                     0\n",
       "adm0_name                   0\n",
       "adm1_id                     0\n",
       "adm1_name              611016\n",
       "mkt_id                      0\n",
       "mkt_name                    0\n",
       "cm_id                       0\n",
       "cm_name                     0\n",
       "cur_id                      0\n",
       "cur_name                    0\n",
       "pt_id                       0\n",
       "pt_name                     0\n",
       "um_id                       0\n",
       "um_name                     0\n",
       "mp_month                    0\n",
       "mp_year                     0\n",
       "mp_price                    0\n",
       "mp_commoditysource    2050638\n",
       "dtype: int64"
      ]
     },
     "execution_count": 9,
     "metadata": {},
     "output_type": "execute_result"
    }
   ],
   "source": [
    "data.isnull().sum()"
   ]
  },
  {
   "cell_type": "code",
   "execution_count": 10,
   "id": "81d1e438-0298-438a-b7b5-e09bacca458a",
   "metadata": {},
   "outputs": [
    {
     "data": {
      "text/plain": [
       "Index(['adm0_id', 'adm0_name', 'adm1_id', 'adm1_name', 'mkt_id', 'mkt_name',\n",
       "       'cm_id', 'cm_name', 'cur_id', 'cur_name', 'pt_id', 'pt_name', 'um_id',\n",
       "       'um_name', 'mp_month', 'mp_year', 'mp_price', 'mp_commoditysource'],\n",
       "      dtype='object')"
      ]
     },
     "execution_count": 10,
     "metadata": {},
     "output_type": "execute_result"
    }
   ],
   "source": [
    "data.columns"
   ]
  },
  {
   "cell_type": "code",
   "execution_count": 11,
   "id": "8bd1c19f-f63f-4336-b321-0286dbfe4c2b",
   "metadata": {},
   "outputs": [],
   "source": [
    "# rename column\n",
    "\n",
    "data.rename(columns={\n",
    "    data.columns[0]:'Country_id',\n",
    "    data.columns[1]:'Country_name',\n",
    "    data.columns[2]:'Locality_id',\n",
    "    data.columns[3]:'Locality_name',\n",
    "    data.columns[4]:'Market_id',\n",
    "    data.columns[5]:'Market_name',\n",
    "    data.columns[6]:'Commodity_purchased_id',\n",
    "    data.columns[7]:'Commodity_purchased',\n",
    "    data.columns[8]:'Currency_id',\n",
    "    data.columns[9]:'Name_of_currency',\n",
    "    data.columns[10]:'Market_type_id',\n",
    "    data.columns[11]:'Market_type',\n",
    "    data.columns[12]:'Measurement_id',\n",
    "    data.columns[13]:'Unit_of_good_measurement',\n",
    "    data.columns[14]:'Month',\n",
    "    data.columns[15]:'Year',\n",
    "    data.columns[16]:'Price_paid',\n",
    "    data.columns[17]:'Source_supplying_price_information',\n",
    "}, inplace=True)"
   ]
  },
  {
   "cell_type": "code",
   "execution_count": 12,
   "id": "987a6291-afcd-4069-91ee-b2a76b1bc3b4",
   "metadata": {},
   "outputs": [
    {
     "data": {
      "text/plain": [
       "Index(['Country_id', 'Country_name', 'Locality_id', 'Locality_name',\n",
       "       'Market_id', 'Market_name', 'Commodity_purchased_id',\n",
       "       'Commodity_purchased', 'Currency_id', 'Name_of_currency',\n",
       "       'Market_type_id', 'Market_type', 'Measurement_id',\n",
       "       'Unit_of_good_measurement', 'Month', 'Year', 'Price_paid',\n",
       "       'Source_supplying_price_information'],\n",
       "      dtype='object')"
      ]
     },
     "execution_count": 12,
     "metadata": {},
     "output_type": "execute_result"
    }
   ],
   "source": [
    "data.columns"
   ]
  },
  {
   "cell_type": "code",
   "execution_count": 13,
   "id": "d6b0bc41-5d2e-49bf-b8dd-175dca936e17",
   "metadata": {},
   "outputs": [],
   "source": [
    "data1=data.drop(['Source_supplying_price_information'], axis=1)"
   ]
  },
  {
   "cell_type": "code",
   "execution_count": 14,
   "id": "42b5e360-c894-4150-88b6-40d183923820",
   "metadata": {},
   "outputs": [
    {
     "data": {
      "text/plain": [
       "True"
      ]
     },
     "execution_count": 14,
     "metadata": {},
     "output_type": "execute_result"
    }
   ],
   "source": [
    "data1['Locality_name'].isnull().values.any()"
   ]
  },
  {
   "cell_type": "code",
   "execution_count": 15,
   "id": "2104a8ca-db53-4781-a0b4-76098be56e02",
   "metadata": {},
   "outputs": [
    {
     "data": {
      "text/plain": [
       "611016"
      ]
     },
     "execution_count": 15,
     "metadata": {},
     "output_type": "execute_result"
    }
   ],
   "source": [
    "data1['Locality_name'].isnull().sum()"
   ]
  },
  {
   "cell_type": "code",
   "execution_count": 16,
   "id": "248fff4e-8f29-4b89-8c38-7d864ed5ae68",
   "metadata": {},
   "outputs": [],
   "source": [
    "data1[\"Locality_name\"].fillna(\"No Name\", inplace = True)"
   ]
  },
  {
   "cell_type": "code",
   "execution_count": 17,
   "id": "da024d28-72e7-4d9d-aea8-efd9a6f267de",
   "metadata": {},
   "outputs": [
    {
     "data": {
      "text/plain": [
       "Country_id                  0\n",
       "Country_name                0\n",
       "Locality_id                 0\n",
       "Locality_name               0\n",
       "Market_id                   0\n",
       "Market_name                 0\n",
       "Commodity_purchased_id      0\n",
       "Commodity_purchased         0\n",
       "Currency_id                 0\n",
       "Name_of_currency            0\n",
       "Market_type_id              0\n",
       "Market_type                 0\n",
       "Measurement_id              0\n",
       "Unit_of_good_measurement    0\n",
       "Month                       0\n",
       "Year                        0\n",
       "Price_paid                  0\n",
       "dtype: int64"
      ]
     },
     "execution_count": 17,
     "metadata": {},
     "output_type": "execute_result"
    }
   ],
   "source": [
    "data1.isnull().sum()"
   ]
  },
  {
   "cell_type": "code",
   "execution_count": 18,
   "id": "9c9b2fa0-39cf-40fe-bfaf-6541874221a8",
   "metadata": {},
   "outputs": [
    {
     "data": {
      "text/plain": [
       "0          0.0\n",
       "1          0.0\n",
       "2          0.0\n",
       "3          0.0\n",
       "4          0.0\n",
       "          ... \n",
       "2050633    0.0\n",
       "2050634    0.0\n",
       "2050635    0.0\n",
       "2050636    0.0\n",
       "2050637    0.0\n",
       "Name: Currency_id, Length: 2050638, dtype: float64"
      ]
     },
     "execution_count": 18,
     "metadata": {},
     "output_type": "execute_result"
    }
   ],
   "source": [
    "data1.Currency_id"
   ]
  },
  {
   "cell_type": "code",
   "execution_count": 19,
   "id": "2a702e3c-4d2b-414d-96a1-e7ad2190fa11",
   "metadata": {},
   "outputs": [],
   "source": [
    "data2=data1.drop(['Currency_id'], axis=1)"
   ]
  },
  {
   "cell_type": "code",
   "execution_count": 20,
   "id": "2482374a-8017-4e1b-a9f8-246137bf7e6f",
   "metadata": {},
   "outputs": [
    {
     "data": {
      "text/html": [
       "<div>\n",
       "<style scoped>\n",
       "    .dataframe tbody tr th:only-of-type {\n",
       "        vertical-align: middle;\n",
       "    }\n",
       "\n",
       "    .dataframe tbody tr th {\n",
       "        vertical-align: top;\n",
       "    }\n",
       "\n",
       "    .dataframe thead th {\n",
       "        text-align: right;\n",
       "    }\n",
       "</style>\n",
       "<table border=\"1\" class=\"dataframe\">\n",
       "  <thead>\n",
       "    <tr style=\"text-align: right;\">\n",
       "      <th></th>\n",
       "      <th>Country_id</th>\n",
       "      <th>Country_name</th>\n",
       "      <th>Locality_id</th>\n",
       "      <th>Locality_name</th>\n",
       "      <th>Market_id</th>\n",
       "      <th>Market_name</th>\n",
       "      <th>Commodity_purchased_id</th>\n",
       "      <th>Commodity_purchased</th>\n",
       "      <th>Name_of_currency</th>\n",
       "      <th>Market_type_id</th>\n",
       "      <th>Market_type</th>\n",
       "      <th>Measurement_id</th>\n",
       "      <th>Unit_of_good_measurement</th>\n",
       "      <th>Month</th>\n",
       "      <th>Year</th>\n",
       "      <th>Price_paid</th>\n",
       "    </tr>\n",
       "  </thead>\n",
       "  <tbody>\n",
       "    <tr>\n",
       "      <th>0</th>\n",
       "      <td>1.0</td>\n",
       "      <td>Afghanistan</td>\n",
       "      <td>272</td>\n",
       "      <td>Badakhshan</td>\n",
       "      <td>266</td>\n",
       "      <td>Fayzabad</td>\n",
       "      <td>55</td>\n",
       "      <td>Bread - Retail</td>\n",
       "      <td>AFN</td>\n",
       "      <td>15</td>\n",
       "      <td>Retail</td>\n",
       "      <td>5</td>\n",
       "      <td>KG</td>\n",
       "      <td>1</td>\n",
       "      <td>2014</td>\n",
       "      <td>50.0</td>\n",
       "    </tr>\n",
       "    <tr>\n",
       "      <th>1</th>\n",
       "      <td>1.0</td>\n",
       "      <td>Afghanistan</td>\n",
       "      <td>272</td>\n",
       "      <td>Badakhshan</td>\n",
       "      <td>266</td>\n",
       "      <td>Fayzabad</td>\n",
       "      <td>55</td>\n",
       "      <td>Bread - Retail</td>\n",
       "      <td>AFN</td>\n",
       "      <td>15</td>\n",
       "      <td>Retail</td>\n",
       "      <td>5</td>\n",
       "      <td>KG</td>\n",
       "      <td>2</td>\n",
       "      <td>2014</td>\n",
       "      <td>50.0</td>\n",
       "    </tr>\n",
       "    <tr>\n",
       "      <th>2</th>\n",
       "      <td>1.0</td>\n",
       "      <td>Afghanistan</td>\n",
       "      <td>272</td>\n",
       "      <td>Badakhshan</td>\n",
       "      <td>266</td>\n",
       "      <td>Fayzabad</td>\n",
       "      <td>55</td>\n",
       "      <td>Bread - Retail</td>\n",
       "      <td>AFN</td>\n",
       "      <td>15</td>\n",
       "      <td>Retail</td>\n",
       "      <td>5</td>\n",
       "      <td>KG</td>\n",
       "      <td>3</td>\n",
       "      <td>2014</td>\n",
       "      <td>50.0</td>\n",
       "    </tr>\n",
       "    <tr>\n",
       "      <th>3</th>\n",
       "      <td>1.0</td>\n",
       "      <td>Afghanistan</td>\n",
       "      <td>272</td>\n",
       "      <td>Badakhshan</td>\n",
       "      <td>266</td>\n",
       "      <td>Fayzabad</td>\n",
       "      <td>55</td>\n",
       "      <td>Bread - Retail</td>\n",
       "      <td>AFN</td>\n",
       "      <td>15</td>\n",
       "      <td>Retail</td>\n",
       "      <td>5</td>\n",
       "      <td>KG</td>\n",
       "      <td>4</td>\n",
       "      <td>2014</td>\n",
       "      <td>50.0</td>\n",
       "    </tr>\n",
       "    <tr>\n",
       "      <th>4</th>\n",
       "      <td>1.0</td>\n",
       "      <td>Afghanistan</td>\n",
       "      <td>272</td>\n",
       "      <td>Badakhshan</td>\n",
       "      <td>266</td>\n",
       "      <td>Fayzabad</td>\n",
       "      <td>55</td>\n",
       "      <td>Bread - Retail</td>\n",
       "      <td>AFN</td>\n",
       "      <td>15</td>\n",
       "      <td>Retail</td>\n",
       "      <td>5</td>\n",
       "      <td>KG</td>\n",
       "      <td>5</td>\n",
       "      <td>2014</td>\n",
       "      <td>50.0</td>\n",
       "    </tr>\n",
       "  </tbody>\n",
       "</table>\n",
       "</div>"
      ],
      "text/plain": [
       "   Country_id Country_name  Locality_id Locality_name  Market_id Market_name  \\\n",
       "0         1.0  Afghanistan          272    Badakhshan        266    Fayzabad   \n",
       "1         1.0  Afghanistan          272    Badakhshan        266    Fayzabad   \n",
       "2         1.0  Afghanistan          272    Badakhshan        266    Fayzabad   \n",
       "3         1.0  Afghanistan          272    Badakhshan        266    Fayzabad   \n",
       "4         1.0  Afghanistan          272    Badakhshan        266    Fayzabad   \n",
       "\n",
       "   Commodity_purchased_id Commodity_purchased Name_of_currency  \\\n",
       "0                      55      Bread - Retail              AFN   \n",
       "1                      55      Bread - Retail              AFN   \n",
       "2                      55      Bread - Retail              AFN   \n",
       "3                      55      Bread - Retail              AFN   \n",
       "4                      55      Bread - Retail              AFN   \n",
       "\n",
       "   Market_type_id Market_type  Measurement_id Unit_of_good_measurement  Month  \\\n",
       "0              15      Retail               5                       KG      1   \n",
       "1              15      Retail               5                       KG      2   \n",
       "2              15      Retail               5                       KG      3   \n",
       "3              15      Retail               5                       KG      4   \n",
       "4              15      Retail               5                       KG      5   \n",
       "\n",
       "   Year  Price_paid  \n",
       "0  2014        50.0  \n",
       "1  2014        50.0  \n",
       "2  2014        50.0  \n",
       "3  2014        50.0  \n",
       "4  2014        50.0  "
      ]
     },
     "execution_count": 20,
     "metadata": {},
     "output_type": "execute_result"
    }
   ],
   "source": [
    "data2.head()"
   ]
  },
  {
   "cell_type": "code",
   "execution_count": 21,
   "id": "b1456488-1873-4acf-a09d-721905576d32",
   "metadata": {},
   "outputs": [
    {
     "data": {
      "text/plain": [
       "Index(['Country_id', 'Country_name', 'Locality_id', 'Locality_name',\n",
       "       'Market_id', 'Market_name', 'Commodity_purchased_id',\n",
       "       'Commodity_purchased', 'Name_of_currency', 'Market_type_id',\n",
       "       'Market_type', 'Measurement_id', 'Unit_of_good_measurement', 'Month',\n",
       "       'Year', 'Price_paid'],\n",
       "      dtype='object')"
      ]
     },
     "execution_count": 21,
     "metadata": {},
     "output_type": "execute_result"
    }
   ],
   "source": [
    "data2.columns"
   ]
  },
  {
   "cell_type": "code",
   "execution_count": 22,
   "id": "0101337c-f4e0-418c-b94f-a992f79971fc",
   "metadata": {},
   "outputs": [],
   "source": [
    "# round each number to 1 decimals\n",
    "\n",
    "data2['Price_paid']=data2['Price_paid'].apply(lambda x:round(x, 1))"
   ]
  },
  {
   "cell_type": "code",
   "execution_count": 23,
   "id": "47709879-758d-47ba-8f4e-0b7503151771",
   "metadata": {},
   "outputs": [
    {
     "data": {
      "text/plain": [
       "0            50.0\n",
       "1            50.0\n",
       "2            50.0\n",
       "3            50.0\n",
       "4            50.0\n",
       "            ...  \n",
       "2050633     233.3\n",
       "2050634     112.5\n",
       "2050635     114.0\n",
       "2050636      59.5\n",
       "2050637    1200.0\n",
       "Name: Price_paid, Length: 2050638, dtype: float64"
      ]
     },
     "execution_count": 23,
     "metadata": {},
     "output_type": "execute_result"
    }
   ],
   "source": [
    "data2.Price_paid"
   ]
  },
  {
   "cell_type": "code",
   "execution_count": 24,
   "id": "66152c7a-d0e1-488c-8775-6a65f5f32ccf",
   "metadata": {},
   "outputs": [
    {
     "data": {
      "text/plain": [
       "0              KG\n",
       "1              KG\n",
       "2              KG\n",
       "3              KG\n",
       "4              KG\n",
       "            ...  \n",
       "2050633        KG\n",
       "2050634    100 ML\n",
       "2050635        KG\n",
       "2050636     250 G\n",
       "2050637        KG\n",
       "Name: Unit_of_good_measurement, Length: 2050638, dtype: object"
      ]
     },
     "execution_count": 24,
     "metadata": {},
     "output_type": "execute_result"
    }
   ],
   "source": [
    "data2.Unit_of_good_measurement"
   ]
  },
  {
   "cell_type": "code",
   "execution_count": 25,
   "id": "af7150eb-5426-4bb0-ba72-193dff13e30f",
   "metadata": {},
   "outputs": [
    {
     "name": "stderr",
     "output_type": "stream",
     "text": [
      "C:\\Users\\USER\\AppData\\Local\\Temp\\ipykernel_12260\\442586448.py:3: FutureWarning: The default value of regex will change from True to False in a future version.\n",
      "  data2.Unit_of_good_measurement=data2.Unit_of_good_measurement.str.replace('\\d+', '')\n"
     ]
    }
   ],
   "source": [
    "# remove numbers from string in the column\n",
    "\n",
    "data2.Unit_of_good_measurement=data2.Unit_of_good_measurement.str.replace('\\d+', '') "
   ]
  },
  {
   "cell_type": "code",
   "execution_count": 26,
   "id": "0317897a-9cec-4bf5-9994-8d6450bbbfe7",
   "metadata": {},
   "outputs": [
    {
     "data": {
      "text/plain": [
       "0           KG\n",
       "1           KG\n",
       "2           KG\n",
       "3           KG\n",
       "4           KG\n",
       "          ... \n",
       "2050633     KG\n",
       "2050634     ML\n",
       "2050635     KG\n",
       "2050636      G\n",
       "2050637     KG\n",
       "Name: Unit_of_good_measurement, Length: 2050638, dtype: object"
      ]
     },
     "execution_count": 26,
     "metadata": {},
     "output_type": "execute_result"
    }
   ],
   "source": [
    "data2.Unit_of_good_measurement"
   ]
  },
  {
   "cell_type": "markdown",
   "id": "13580270-3fab-4c92-9135-9af74b10b339",
   "metadata": {},
   "source": [
    "## Trend Analysis and Visualization"
   ]
  },
  {
   "cell_type": "code",
   "execution_count": 27,
   "id": "a2dadb6f-f052-422d-9f09-d288a8264d49",
   "metadata": {},
   "outputs": [
    {
     "data": {
      "text/plain": [
       "Rwanda                  137746\n",
       "Bassas da India         137093\n",
       "Syrian Arab Republic    116588\n",
       "Philippines              82099\n",
       "Mali                     73843\n",
       "                         ...  \n",
       "Viet Nam                   275\n",
       "Azerbaijan                 125\n",
       "Eritrea                    100\n",
       "Georgia                     80\n",
       "Venezuela                    6\n",
       "Name: Country_name, Length: 98, dtype: int64"
      ]
     },
     "execution_count": 27,
     "metadata": {},
     "output_type": "execute_result"
    }
   ],
   "source": [
    "data2.Country_name.value_counts()"
   ]
  },
  {
   "cell_type": "code",
   "execution_count": 28,
   "id": "64c3bc5a-de98-4619-978c-6da551366ec1",
   "metadata": {},
   "outputs": [
    {
     "data": {
      "image/png": "[encoded data removed]",
      "text/plain": [
       "<Figure size 1400x800 with 1 Axes>"
      ]
     },
     "metadata": {},
     "output_type": "display_data"
    }
   ],
   "source": [
    "# top 10 purchases by countries\n",
    "\n",
    "plt.figure(figsize=(14,8))\n",
    "data2.Country_name.value_counts().head(10).plot(kind=\"bar\")\n",
    "plt.xticks(rotation=90)\n",
    "plt.show()"
   ]
  },
  {
   "cell_type": "code",
   "execution_count": 29,
   "id": "4beff28e-f939-49a8-9cd4-ae2ffdbb1a58",
   "metadata": {},
   "outputs": [
    {
     "data": {
      "text/plain": [
       "Text(0.5, 1.0, 'top 10 commodities reported')"
      ]
     },
     "execution_count": 29,
     "metadata": {},
     "output_type": "execute_result"
    },
    {
     "data": {
      "image/png": "[encoded data removed]",
      "text/plain": [
       "<Figure size 2000x1500 with 1 Axes>"
      ]
     },
     "metadata": {},
     "output_type": "display_data"
    }
   ],
   "source": [
    "# top 10 most purchased commodity\n",
    "\n",
    "fig=plt.subplots(1, 1, figsize=(20,15), sharex=True)\n",
    "top_10_data2=data2[[\"Country_id\", \"Commodity_purchased\"]].groupby(\"Commodity_purchased\").agg(['count'])['Country_id']['count'].sort_values(ascending=False)[:10]\n",
    "fig=sns.barplot(x=top_10_data2.index, y=top_10_data2.values)\n",
    "fig.set_ylabel(\"Number of commodities reported\")\n",
    "fig.set_xlabel(\"commodity name\")\n",
    "fig.set_title(\"top 10 commodities reported\")"
   ]
  },
  {
   "cell_type": "code",
   "execution_count": 30,
   "id": "a24ccc9a-635a-4243-9834-94f5521711bb",
   "metadata": {},
   "outputs": [],
   "source": [
    "# save to file\n",
    "\n",
    "data2.to_csv(\"datasets/obi_blessing_project.csv\",index=None)"
   ]
  },
  {
   "cell_type": "markdown",
   "id": "b41f906c-cb5c-4e4e-a92f-64f157372f4e",
   "metadata": {},
   "source": [
    "# HOW I CREATED MY PROJECT"
   ]
  },
  {
   "cell_type": "markdown",
   "id": "78805c71-1fc5-4b31-8a83-e98b19d8ccd1",
   "metadata": {},
   "source": [
    "1. First i setup the environment then i loaded the data."
   ]
  },
  {
   "cell_type": "markdown",
   "id": "da1c6836-2531-486d-977c-78327ea2fa84",
   "metadata": {},
   "source": [
    "2. Secondly i cleaned the data by renaming the columns, dropping the NA/NULL values, dropped the columns that were not useful to the dataset, rounded the numbers to a single decimal in the price_paid column and i removed number from strings in the unit_of_good_measurement column."
   ]
  },
  {
   "cell_type": "markdown",
   "id": "77ce3b6c-e31b-4d8a-85af-257eed06943f",
   "metadata": {},
   "source": [
    "3. Thirdly i analyzed and visualized the data by creating a bar chart for the top 10 purchases by countries and the top 10 most purchased commodities."
   ]
  },
  {
   "cell_type": "code",
   "execution_count": null,
   "id": "f1f5a8f5-2e4f-40be-b534-63dab5e342c0",
   "metadata": {},
   "outputs": [],
   "source": []
  }
 ],
 "metadata": {
  "kernelspec": {
   "display_name": "Python 3 (ipykernel)",
   "language": "python",
   "name": "python3"
  },
  "language_info": {
   "codemirror_mode": {
    "name": "ipython",
    "version": 3
   },
   "file_extension": ".py",
   "mimetype": "text/x-python",
   "name": "python",
   "nbconvert_exporter": "python",
   "pygments_lexer": "ipython3",
   "version": "3.9.13"
  }
 },
 "nbformat": 4,
 "nbformat_minor": 5
}
